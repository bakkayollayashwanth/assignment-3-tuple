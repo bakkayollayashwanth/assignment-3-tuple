{
 "cells": [
  {
   "cell_type": "code",
   "execution_count": 14,
   "id": "bb627b4a",
   "metadata": {},
   "outputs": [
    {
     "name": "stdout",
     "output_type": "stream",
     "text": [
      "{4: 2, 5: 3, 6: 2}\n"
     ]
    }
   ],
   "source": [
    "a=(4,5,4,5,6,6,5)\n",
    "b=set(a)\n",
    "c={}\n",
    "for i in b:\n",
    "    c[i]=a.count(i)\n",
    "print(c)"
   ]
  },
  {
   "cell_type": "code",
   "execution_count": 1,
   "id": "080e49b6",
   "metadata": {},
   "outputs": [
    {
     "name": "stdout",
     "output_type": "stream",
     "text": [
      "{4: 2 ,5: 3 ,6: 2 }\n"
     ]
    }
   ],
   "source": [
    "#1.\tFind elements frequency in Tuple\n",
    "a=(4,5,4,5,6,6,5)\n",
    "print('{4:',a.count(4),',5:',a.count(5),',6:',a.count(6),'}')"
   ]
  },
  {
   "cell_type": "code",
   "execution_count": 4,
   "id": "0dcd1e59",
   "metadata": {},
   "outputs": [
    {
     "name": "stdout",
     "output_type": "stream",
     "text": [
      "[('aaaa', 28), ('aa', 30), ('bab', 29), ('bb', 21), ('csa', 'C')]\n",
      "['aaaa', 'aa', 'bab', 'bb', 'csa']\n",
      "['aa', 'aaaa', 'bab', 'bb', 'csa']\n",
      "[('aa', 30), ('aaaa', 28), ('bab', 29), ('bb', 21), ('csa', 'C')]\n"
     ]
    }
   ],
   "source": [
    "#2.\tPython program to sort a list of tuples alphabetically\n",
    "s=[(\"aaaa\", 28), (\"aa\", 30), (\"bab\", 29), (\"bb\", 21), (\"csa\", \"C\")]\n",
    "print(s)\n",
    "k=[]\n",
    "for i in range(len(s)):\n",
    "    c=s[i][0]\n",
    "    k.append(c)\n",
    "print(k)\n",
    "k.sort()\n",
    "print(k)\n",
    "l=[]\n",
    "for i in k:\n",
    "    for j in range(5):\n",
    "        if i==s[j][0]:\n",
    "            l.append(s[j])\n",
    "print(l)"
   ]
  },
  {
   "cell_type": "code",
   "execution_count": 3,
   "id": "ce6af88d",
   "metadata": {},
   "outputs": [
    {
     "name": "stdout",
     "output_type": "stream",
     "text": [
      "[25.5, -18.0, 3.75]\n"
     ]
    }
   ],
   "source": [
    "#3.\tWrite a Python program to calculate the average value of the numbers in a given tuple of tuples\n",
    "a=((1, 1, -5), (30, -15, 56), (81, -60, -39), (-10, 2, 3))\n",
    "k=[]\n",
    "for i in range(len(a)-1):\n",
    "    b=((a[0][i]+a[1][i]+a[2][i]+a[3][i]))/len(a)\n",
    "    k.append(b)\n",
    "print(k)"
   ]
  },
  {
   "cell_type": "code",
   "execution_count": null,
   "id": "2a547fb9",
   "metadata": {},
   "outputs": [],
   "source": []
  }
 ],
 "metadata": {
  "kernelspec": {
   "display_name": "Python 3 (ipykernel)",
   "language": "python",
   "name": "python3"
  },
  "language_info": {
   "codemirror_mode": {
    "name": "ipython",
    "version": 3
   },
   "file_extension": ".py",
   "mimetype": "text/x-python",
   "name": "python",
   "nbconvert_exporter": "python",
   "pygments_lexer": "ipython3",
   "version": "3.9.13"
  }
 },
 "nbformat": 4,
 "nbformat_minor": 5
}
